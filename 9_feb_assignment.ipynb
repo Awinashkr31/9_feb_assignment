{
 "cells": [
  {
   "cell_type": "code",
   "execution_count": 1,
   "id": "30c2945b-a7cb-4565-9f2f-742409184d7e",
   "metadata": {},
   "outputs": [],
   "source": [
    "# Q1. Create a vehicle class with an init method having instance variables as name_of_vehicle, max_speed and average_of_vehicle."
   ]
  },
  {
   "cell_type": "code",
   "execution_count": 2,
   "id": "bb071ee0-12e8-41ae-a7d8-facf2deb5c1c",
   "metadata": {},
   "outputs": [],
   "source": [
    "class Vehicle:\n",
    "    def __init__(self, name_of_vehicle, max_speed, average_of_vehicle):\n",
    "        self.name_of_vehicle = name_of_vehicle\n",
    "        self.max_speed = max_speed\n",
    "        self.average_of_vehicle = average_of_vehicle\n"
   ]
  },
  {
   "cell_type": "code",
   "execution_count": 3,
   "id": "8a16ce08-ce4c-4828-ac72-43d81bf1f4a0",
   "metadata": {},
   "outputs": [],
   "source": [
    "car = Vehicle(\"Car\", 200, 40)\n",
    "bike = Vehicle(\"Bike\", 120, 30)\n"
   ]
  },
  {
   "cell_type": "code",
   "execution_count": 4,
   "id": "9dd89f36-1e4e-4d73-b4ec-834f6fd50c46",
   "metadata": {},
   "outputs": [
    {
     "name": "stdout",
     "output_type": "stream",
     "text": [
      "Car\n",
      "120\n"
     ]
    }
   ],
   "source": [
    "print(car.name_of_vehicle) # Output: \"Car\"\n",
    "print(bike.max_speed) # Output: 120\n"
   ]
  },
  {
   "cell_type": "code",
   "execution_count": null,
   "id": "1020ac82-ef26-474d-b079-21444786d738",
   "metadata": {},
   "outputs": [],
   "source": []
  },
  {
   "cell_type": "code",
   "execution_count": 6,
   "id": "466f2682-9439-4295-b4c1-272db6bde620",
   "metadata": {},
   "outputs": [],
   "source": [
    "#Q2. Create a child class car from the vehicle class created in Que 1, which will inherit the vehicle class.\n",
    "#    Create a method named seating_capacity which takes capacity as an argument and returns the name of the vehicle and its seating capacity."
   ]
  },
  {
   "cell_type": "code",
   "execution_count": 7,
   "id": "27bc185c-119a-4832-81f1-e026ea89102f",
   "metadata": {},
   "outputs": [],
   "source": [
    "class Car(Vehicle):\n",
    "    def seating_capacity(self, capacity):\n",
    "        return f\"{self.name_of_vehicle} has a seating capacity of {capacity} passengers.\"\n"
   ]
  },
  {
   "cell_type": "code",
   "execution_count": 8,
   "id": "7cffc48d-8416-4a8e-862f-507e6ea6afca",
   "metadata": {},
   "outputs": [
    {
     "name": "stdout",
     "output_type": "stream",
     "text": [
      "Car has a seating capacity of 5 passengers.\n"
     ]
    }
   ],
   "source": [
    "car = Car(\"Car\", 200, 40)\n",
    "print(car.seating_capacity(5)) # Output: \"Car has a seating capacity of 5 passengers.\"\n"
   ]
  },
  {
   "cell_type": "code",
   "execution_count": null,
   "id": "2314389b-25bd-423d-9261-c8e49825510a",
   "metadata": {},
   "outputs": [],
   "source": []
  },
  {
   "cell_type": "code",
   "execution_count": 9,
   "id": "5f83c26a-fc1e-4a23-8e47-64ed3b7f87c0",
   "metadata": {},
   "outputs": [],
   "source": [
    "#Q3. What is multiple inheritance? Write a python code to demonstrate multiple inheritance."
   ]
  },
  {
   "cell_type": "code",
   "execution_count": 11,
   "id": "0bcd59e9-1516-47bf-9f82-57d09a769988",
   "metadata": {},
   "outputs": [],
   "source": [
    "\"\"\" Multiple inheritance is a feature of object-oriented programming in which a class can inherit attributes and methods\n",
    "    from multiple parent classes. In Python, we can achieve multiple inheritance by specifying multiple parent classes \n",
    "    in the class definition. \"\"\"\n",
    "\n",
    "class Person:\n",
    "    def __init__(self, name, age):\n",
    "        self.name = name\n",
    "        self.age = age\n",
    "\n",
    "class School:\n",
    "    def __init__(self, school_name, location):\n",
    "        self.school_name = school_name\n",
    "        self.location = location\n",
    "\n",
    "class Student(Person, School):\n",
    "    def __init__(self, name, age, school_name, location, grade):\n",
    "        Person.__init__(self, name, age)\n",
    "        School.__init__(self, school_name, location)\n",
    "        self.grade = grade\n"
   ]
  },
  {
   "cell_type": "code",
   "execution_count": 13,
   "id": "2d4c1154-1772-46f7-bd08-5db07f07ef21",
   "metadata": {},
   "outputs": [
    {
     "name": "stdout",
     "output_type": "stream",
     "text": [
      "Awinash\n",
      "Pwskills\n",
      "BCA\n"
     ]
    }
   ],
   "source": [
    "student = Student(\"Awinash\", 20, \"Pwskills\", \"bhagalpur\", \"BCA\")\n",
    "print(student.name) # Output: \"John\"\n",
    "print(student.school_name) # Output: \"ABC School\"\n",
    "print(student.grade) # Output: \"10th\"\n"
   ]
  },
  {
   "cell_type": "code",
   "execution_count": null,
   "id": "9e61b0a1-0a55-42a2-8f38-49a953247282",
   "metadata": {},
   "outputs": [],
   "source": []
  },
  {
   "cell_type": "code",
   "execution_count": 14,
   "id": "be6d24d5-5896-44af-9cc2-7006b73c44d6",
   "metadata": {},
   "outputs": [],
   "source": [
    "#Q4. What are getter and setter in python? Create a class and create a getter and a setter method in this class."
   ]
  },
  {
   "cell_type": "code",
   "execution_count": 15,
   "id": "0eff99ac-20f5-48d0-a45e-015278621755",
   "metadata": {},
   "outputs": [],
   "source": [
    "\"\"\" In Python, getters and setters are methods that are used to access and modify the values of private instance\n",
    "    variables in a class. They allow you to control how the values are accessed and changed, providing a layer of abstraction\n",
    "    that can prevent unwanted changes to the variables. \"\"\"\n",
    "\n",
    "class Person:\n",
    "    def __init__(self, name, age):\n",
    "        self._name = name\n",
    "        self._age = age\n",
    "    \n",
    "    def get_name(self):\n",
    "        return self._name\n",
    "    \n",
    "    def set_name(self, name):\n",
    "        self._name = name\n",
    "    \n",
    "    def get_age(self):\n",
    "        return self._age\n",
    "    \n",
    "    def set_age(self, age):\n",
    "        self._age = age\n"
   ]
  },
  {
   "cell_type": "code",
   "execution_count": 20,
   "id": "b6a161a6-db13-43f3-9796-354862013ea7",
   "metadata": {},
   "outputs": [
    {
     "name": "stdout",
     "output_type": "stream",
     "text": [
      "Awinash\n",
      "Awinash kumar\n",
      "20\n",
      "22\n"
     ]
    }
   ],
   "source": [
    "person = Person(\"Awinash\", 20)\n",
    "print(person.get_name()) # Output: \"Awinash\"\n",
    "person.set_name(\"Awinash kumar\")\n",
    "print(person.get_name()) # Output: \"Awinash\"\n",
    "print(person.get_age()) # Output: 20\n",
    "person.set_age(22)\n",
    "print(person.get_age()) # Output: 22\n"
   ]
  },
  {
   "cell_type": "code",
   "execution_count": null,
   "id": "cfa3a085-f041-4ed7-8798-e90e7ac5edb0",
   "metadata": {},
   "outputs": [],
   "source": []
  },
  {
   "cell_type": "code",
   "execution_count": 19,
   "id": "2ad87e95-4112-4657-b412-fa42824d7802",
   "metadata": {},
   "outputs": [],
   "source": [
    "#Q5.What is method overriding in python? Write a python code to demonstrate method overriding."
   ]
  },
  {
   "cell_type": "code",
   "execution_count": 21,
   "id": "96aa9102-068b-4d12-b88e-d99649e544ea",
   "metadata": {},
   "outputs": [
    {
     "name": "stdout",
     "output_type": "stream",
     "text": [
      "The animal makes a sound\n",
      "Meow\n",
      "Woof\n"
     ]
    }
   ],
   "source": [
    "\"\"\" Method overriding is a feature in object-oriented programming that allows a subclass to provide a different \n",
    "    implementation of a method that is already defined in its parent class. \"\"\"\n",
    "\n",
    "class Animal:\n",
    "    def make_sound(self):\n",
    "        print(\"The animal makes a sound\")\n",
    "\n",
    "class Cat(Animal):\n",
    "    def make_sound(self):\n",
    "        print(\"Meow\")\n",
    "\n",
    "class Dog(Animal):\n",
    "    def make_sound(self):\n",
    "        print(\"Woof\")\n",
    "\n",
    "# Create objects of the Animal, Cat and Dog classes\n",
    "animal = Animal()\n",
    "cat = Cat()\n",
    "dog = Dog()\n",
    "\n",
    "# Call the make_sound method on each object\n",
    "animal.make_sound() # Output: \"The animal makes a sound\"\n",
    "cat.make_sound() # Output: \"Meow\"\n",
    "dog.make_sound() # Output: \"Woof\"\n"
   ]
  },
  {
   "cell_type": "code",
   "execution_count": null,
   "id": "21ab7822-58d3-41d8-a673-c0e53b32eefc",
   "metadata": {},
   "outputs": [],
   "source": []
  }
 ],
 "metadata": {
  "kernelspec": {
   "display_name": "Python 3 (ipykernel)",
   "language": "python",
   "name": "python3"
  },
  "language_info": {
   "codemirror_mode": {
    "name": "ipython",
    "version": 3
   },
   "file_extension": ".py",
   "mimetype": "text/x-python",
   "name": "python",
   "nbconvert_exporter": "python",
   "pygments_lexer": "ipython3",
   "version": "3.10.8"
  }
 },
 "nbformat": 4,
 "nbformat_minor": 5
}
